{
 "cells": [
  {
   "cell_type": "markdown",
   "metadata": {},
   "source": [
    "# Figure 3: Significance of Correlation Statistic\n",
    "\n",
    "**Alex B. Nielsen<sup>1,2</sup>, Alexander H. Nitz<sup>1,2</sup>, Collin Capano<sup>1,2</sup>, and Duncan A. Brown<sup>3</sup>**\n",
    "\n",
    " <sub>1. [Albert-Einstein-Institut, Max-Planck-Institut for Gravitationsphysik, D-30167 Hannover, Germany](http://www.aei.mpg.de/obs-rel-cos)</sub>  \n",
    " <sub>2. Leibniz Universitat Hannover, D-30167 Hannover, Germany</sub>  \n",
    " <sub>3. Department of Physics, Syracuse University, Syracuse, NY 13244, USA</sub>  \n",
    "\n",
    "![Creative Commons License](https://i.creativecommons.org/l/by-sa/3.0/us/88x31.png \"Creative Commons License\")\n",
    "\n",
    "This work is licensed under a [Creative Commons Attribution-ShareAlike 3.0 United States License](http://creativecommons.org/licenses/by-sa/3.0/us/).\n",
    "\n",
    "We encourage use of these data in derivative works. If you use the material provided here, please cite [our paper.](https://arxiv.org/abs/1811.04071)\n",
    "\n",
    "## Set up\n",
    "\n",
    "Before running this notebook, you should run the [CreateResiduals](https://github.com/gwastro/gw150914_investigation/blob/master/CreateResiduals.ipynb) notebook to download the strain data and compute the maximum likelihood waveform."
   ]
  },
  {
   "cell_type": "code",
   "execution_count": 1,
   "metadata": {},
   "outputs": [],
   "source": [
    "import os\n",
    "import pycbc.noise.reproduceable as noise\n",
    "from pycbc.filter import resample_to_delta_t\n",
    "from pycbc.types import TimeSeries, zeros\n",
    "import res\n",
    "import numpy\n",
    "import pylab\n",
    "from scipy.stats import ks_2samp\n",
    "import warnings\n",
    "warnings.simplefilter(action='ignore', category=FutureWarning)"
   ]
  },
  {
   "cell_type": "markdown",
   "metadata": {},
   "source": [
    "The plots are written to the directory specified here. You can change the value of `output_dir` to the path where you want the plots to be written."
   ]
  },
  {
   "cell_type": "code",
   "execution_count": 2,
   "metadata": {},
   "outputs": [],
   "source": [
    "output_dir = '../paper'\n",
    "!mkdir -p {output_dir}"
   ]
  },
  {
   "cell_type": "markdown",
   "metadata": {},
   "source": [
    "### Note\n",
    "\n",
    "This notebook can take over 10 hours to run. If you would just like to plot the background saved on disk, skip down to the section \"Figure 3\" below. In the cell below we include the code for a [widget-based progress](https://github.com/alexanderkuk/log-progress) so that the progress can be monitored when the notebook is running."
   ]
  },
  {
   "cell_type": "code",
   "execution_count": 3,
   "metadata": {},
   "outputs": [],
   "source": [
    "def log_progress(sequence, every=None, size=None, name='Items'):\n",
    "    from ipywidgets import IntProgress, HTML, VBox\n",
    "    from IPython.display import display\n",
    "\n",
    "    is_iterator = False\n",
    "    if size is None:\n",
    "        try:\n",
    "            size = len(sequence)\n",
    "        except TypeError:\n",
    "            is_iterator = True\n",
    "    if size is not None:\n",
    "        if every is None:\n",
    "            if size <= 200:\n",
    "                every = 1\n",
    "            else:\n",
    "                every = int(size / 200)     # every 0.5%\n",
    "    else:\n",
    "        assert every is not None, 'sequence is iterator, set every'\n",
    "\n",
    "    if is_iterator:\n",
    "        progress = IntProgress(min=0, max=1, value=1)\n",
    "        progress.bar_style = 'info'\n",
    "    else:\n",
    "        progress = IntProgress(min=0, max=size, value=0)\n",
    "    label = HTML()\n",
    "    box = VBox(children=[label, progress])\n",
    "    display(box)\n",
    "\n",
    "    index = 0\n",
    "    try:\n",
    "        for index, record in enumerate(sequence, 1):\n",
    "            if index == 1 or index % every == 0:\n",
    "                if is_iterator:\n",
    "                    label.value = '{name}: {index} / ?'.format(\n",
    "                        name=name,\n",
    "                        index=index\n",
    "                    )\n",
    "                else:\n",
    "                    progress.value = index\n",
    "                    label.value = u'{name}: {index} / {size}'.format(\n",
    "                        name=name,\n",
    "                        index=index,\n",
    "                        size=size\n",
    "                    )\n",
    "            yield record\n",
    "    except:\n",
    "        progress.bar_style = 'danger'\n",
    "        raise\n",
    "    else:\n",
    "        progress.bar_style = 'success'\n",
    "        progress.value = index\n",
    "        label.value = \"{name}: {index}\".format(\n",
    "            name=name,\n",
    "            index=str(index or '?')\n",
    "        )"
   ]
  },
  {
   "cell_type": "markdown",
   "metadata": {},
   "source": [
    "## Generate the background"
   ]
  },
  {
   "cell_type": "code",
   "execution_count": 4,
   "metadata": {},
   "outputs": [
    {
     "data": {
      "application/vnd.jupyter.widget-view+json": {
       "model_id": "5cfe24b46d8e4ac79556d803e972c1e3",
       "version_major": 2,
       "version_minor": 0
      },
      "text/plain": [
       "VBox(children=(HTML(value=u''), IntProgress(value=0, max=300)))"
      ]
     },
     "metadata": {},
     "output_type": "display_data"
    },
    {
     "data": {
      "application/vnd.jupyter.widget-view+json": {
       "model_id": "4cf8b4aaf7524a3a9e9170c8bb4ec7c5",
       "version_major": 2,
       "version_minor": 0
      },
      "text/plain": [
       "VBox(children=(HTML(value=u''), IntProgress(value=0, max=300)))"
      ]
     },
     "metadata": {},
     "output_type": "display_data"
    }
   ],
   "source": [
    "# Get the real strain\n",
    "strain = res.get_residual_strain()\n",
    "\n",
    "bsize = 100\n",
    "bnum = 300\n",
    "\n",
    "# Note: the following loop will take ~30mins\n",
    "\n",
    "# Generate Fake Strain\n",
    "fake_strain = {}\n",
    "for i, ifo in enumerate(res.ifos):\n",
    "    psd = strain[ifo].psd(32)\n",
    "    ts = TimeSeries(zeros(16384 * bsize * bnum, dtype=numpy.float64), delta_t=1.0/16384)\n",
    "    for j in log_progress(range(bnum)):\n",
    "        s = j * bsize\n",
    "        e = (j+1) * bsize\n",
    "        tpart = ts.time_slice(s, e)      \n",
    "        tpart[:] = noise.colored_noise(psd, s, e, seed=i, low_frequency_cutoff=15.0)\n",
    "    fake_strain[ifo] = resample_to_delta_t(ts, 1.0/4096)"
   ]
  },
  {
   "cell_type": "code",
   "execution_count": 5,
   "metadata": {},
   "outputs": [],
   "source": [
    "real_bandpass = res.bandpass(strain)\n",
    "fake_bandpass = res.bandpass(fake_strain)"
   ]
  },
  {
   "cell_type": "code",
   "execution_count": 6,
   "metadata": {
    "scrolled": true
   },
   "outputs": [
    {
     "name": "stdout",
     "output_type": "stream",
     "text": [
      "7081\n"
     ]
    },
    {
     "data": {
      "application/vnd.jupyter.widget-view+json": {
       "model_id": "f3accadf354149e096ee69fa40413dea",
       "version_major": 2,
       "version_minor": 0
      },
      "text/plain": [
       "VBox(children=(HTML(value=u''), IntProgress(value=0, max=7081)))"
      ]
     },
     "metadata": {},
     "output_type": "display_data"
    },
    {
     "name": "stdout",
     "output_type": "stream",
     "text": [
      "490491\n"
     ]
    },
    {
     "data": {
      "application/vnd.jupyter.widget-view+json": {
       "model_id": "35abead540ba4acf9e888ff8b44040ff",
       "version_major": 2,
       "version_minor": 0
      },
      "text/plain": [
       "VBox(children=(HTML(value=u''), IntProgress(value=0, max=490491)))"
      ]
     },
     "metadata": {},
     "output_type": "display_data"
    }
   ],
   "source": [
    "# Note: the following loop takes ~9 hours to run\n",
    "dist_breal = []\n",
    "dist_bfake = []\n",
    "\n",
    "for dist, w in zip([dist_breal, dist_bfake],\n",
    "                   [real_bandpass, fake_bandpass]):\n",
    "    step = 0.061\n",
    "    max_samples = int((w[ifo].end_time - w[ifo].start_time - 80) / step)\n",
    "    print max_samples\n",
    "    # This loop steps ``time`` through the real/fake data stream in strides of ``step``. On\n",
    "    # each iteration, it calculates the cross correlation in the default window size of\n",
    "    # time + 40ms, then finds the peak within +/-0.5ms of the 7ms offset between detectors.\n",
    "    # Since the stride is 61ms and the window is 40ms, this ensures that each loop uses data\n",
    "    # that is independent of the previous loop.\n",
    "    for i in log_progress(range(max_samples)):\n",
    "        time = w[ifo].start_time + 40 + i * step\n",
    "        peak = res.get_peak(w, time)\n",
    "        dist.append(peak)"
   ]
  },
  {
   "cell_type": "code",
   "execution_count": 7,
   "metadata": {},
   "outputs": [],
   "source": [
    "numpy.savetxt('bkg_real.txt', dist_breal)\n",
    "numpy.savetxt('bkg_simulated.txt', dist_bfake)"
   ]
  },
  {
   "cell_type": "markdown",
   "metadata": {},
   "source": [
    "## Figure 3\n",
    "\n",
    "Cumulative distribution of correlations in simulated colored Gaussian noise and detector data away from GW150914, using the same bandpass and notching, and correlation time window settings as used to produce Fig. 2. The minimum correlation values near the time of flight difference in Fig. 2 are plotted as vertical lines for reference."
   ]
  },
  {
   "cell_type": "code",
   "execution_count": 8,
   "metadata": {},
   "outputs": [
    {
     "data": {
      "image/png": "[encoded data removed]",
      "text/plain": [
       "<Figure size 432x288 with 1 Axes>"
      ]
     },
     "metadata": {
      "needs_background": "light"
     },
     "output_type": "display_data"
    },
    {
     "name": "stdout",
     "output_type": "stream",
     "text": [
      "Ks_2sampResult(statistic=0.006224238979971486, pvalue=0.9490818308755471)\n"
     ]
    }
   ],
   "source": [
    "dist_breal = numpy.loadtxt('bkg_real.txt')\n",
    "dist_bfake = numpy.loadtxt('bkg_simulated.txt')\n",
    "\n",
    "for dist, label, color, in zip([dist_breal, dist_bfake], ['Off-source LIGO Data Distribution', 'Colored Gaussian Noise Distribution'], ['black', 'red']):\n",
    "    dist = numpy.array(dist)\n",
    "    dist.sort()\n",
    "    x = numpy.arange(len(dist), 0, -1)\n",
    "    pylab.plot(dist, x / float(len(x)), label=label, color=color)\n",
    "    \n",
    "# Taken from Fig 2. \n",
    "pylab.axvline(0.965, label='Original Data Including Signal', color='tab:blue', linestyle='--')\n",
    "pylab.axvline(0.816, label='Non-ML NR Waveform Subtracted Data', color='tab:orange', linestyle='--')\n",
    "pylab.axvline(0.369, label='ML Waveform Subtracted Data', color='green', linestyle='--')\n",
    "\n",
    "pylab.xlim(0, 1)\n",
    "pylab.ylim(1e-6, 1e0)\n",
    "pylab.legend()\n",
    "pylab.yscale('log')\n",
    "pylab.ylabel('p-value')\n",
    "pylab.grid()\n",
    "pylab.xlabel('Correlation Coefficient')\n",
    "pylab.savefig(os.path.join(output_dir,'fig3.pdf'))\n",
    "pylab.show()\n",
    "\n",
    "from scipy.stats import ks_2samp\n",
    "print ks_2samp(dist_breal, dist_bfake)"
   ]
  },
  {
   "cell_type": "code",
   "execution_count": null,
   "metadata": {},
   "outputs": [],
   "source": []
  }
 ],
 "metadata": {
  "kernelspec": {
   "display_name": "Python 2",
   "language": "python",
   "name": "python2"
  },
  "language_info": {
   "codemirror_mode": {
    "name": "ipython",
    "version": 2
   },
   "file_extension": ".py",
   "mimetype": "text/x-python",
   "name": "python",
   "nbconvert_exporter": "python",
   "pygments_lexer": "ipython2",
   "version": "2.7.5"
  }
 },
 "nbformat": 4,
 "nbformat_minor": 2
}
