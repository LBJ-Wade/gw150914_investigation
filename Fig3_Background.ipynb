{
 "cells": [
  {
   "cell_type": "markdown",
   "metadata": {},
   "source": [
    "# Figure 3: Significance of Correlation Statistic\n",
    "\n",
    "**Alex B. Nielsen<sup>1,2</sup>, Alexander H. Nitz<sup>1,2</sup>, Collin Capano<sup>1,2</sup>, and Duncan A. Brown<sup>3</sup>**\n",
    "\n",
    " <sub>1. [Albert-Einstein-Institut, Max-Planck-Institut for Gravitationsphysik, D-30167 Hannover, Germany](http://www.aei.mpg.de/obs-rel-cos)</sub>  \n",
    " <sub>2. Leibniz Universitat Hannover, D-30167 Hannover, Germany</sub>  \n",
    " <sub>3. Department of Physics, Syracuse University, Syracuse, NY 13244, USA</sub>  \n",
    "\n",
    "![Creative Commons License](https://i.creativecommons.org/l/by-sa/3.0/us/88x31.png \"Creative Commons License\")\n",
    "\n",
    "This work is licensed under a [Creative Commons Attribution-ShareAlike 3.0 United States License](http://creativecommons.org/licenses/by-sa/3.0/us/).\n",
    "\n",
    "We encourage use of these data in derivative works. If you use the material provided here, please cite [our paper.](https://arxiv.org/abs/1811.04071)\n",
    "\n",
    "## Set up\n",
    "\n",
    "Before running this notebook, you should run the [CreateResiduals](https://github.com/gwastro/gw150914_investigation/blob/master/CreateResiduals.ipynb) notebook to download the strain data and compute the maximum likelihood waveform."
   ]
  },
  {
   "cell_type": "code",
   "execution_count": 2,
   "metadata": {},
   "outputs": [],
   "source": [
    "import pycbc.noise.reproduceable as noise\n",
    "from pycbc.filter import resample_to_delta_t\n",
    "from pycbc.types import TimeSeries, zeros\n",
    "import res\n",
    "import numpy, os\n",
    "import pylab\n",
    "from scipy.stats import ks_2samp"
   ]
  },
  {
   "cell_type": "markdown",
   "metadata": {},
   "source": [
    "The plots are written to the directory specified here. You can change the value of `output_dir` to the path where you want the plots to be written."
   ]
  },
  {
   "cell_type": "code",
   "execution_count": null,
   "metadata": {},
   "outputs": [],
   "source": [
    "output_dir = '../paper'\n",
    "!mkdir -p {output_dir}"
   ]
  },
  {
   "cell_type": "markdown",
   "metadata": {},
   "source": [
    "## Generate the background"
   ]
  },
  {
   "cell_type": "markdown",
   "metadata": {},
   "source": [
    "*Note:* the following cells can take over 9 hours to run. If you would just like to plot the background saved on disk, skip down to the section \"Figure 3\" below."
   ]
  },
  {
   "cell_type": "code",
   "execution_count": null,
   "metadata": {},
   "outputs": [],
   "source": [
    "# Get the real strain\n",
    "strain = res.get_residual_strain()\n",
    "\n",
    "bsize = 100\n",
    "bnum = 300\n",
    "\n",
    "# Note: the following loop will take ~30mins\n",
    "\n",
    "# Generate Fake Strain\n",
    "fake_strain = {}\n",
    "for i, ifo in enumerate(res.ifos):\n",
    "    psd = strain[ifo].psd(32)\n",
    "    ts = TimeSeries(zeros(16384 * bsize * bnum, dtype=numpy.float64), delta_t=1.0/16384)\n",
    "    for j in range(bnum):\n",
    "        s = j * bsize\n",
    "        e = (j+1) * bsize\n",
    "        print j, s, e\n",
    "        tpart = ts.time_slice(s, e)      \n",
    "        tpart[:] = noise.colored_noise(psd, s, e, seed=i, low_frequency_cutoff=15.0)\n",
    "    fake_strain[ifo] = resample_to_delta_t(ts, 1.0/4096)"
   ]
  },
  {
   "cell_type": "code",
   "execution_count": null,
   "metadata": {},
   "outputs": [],
   "source": [
    "real_bandpass = res.bandpass(strain)\n",
    "fake_bandpass = res.bandpass(fake_strain)"
   ]
  },
  {
   "cell_type": "code",
   "execution_count": null,
   "metadata": {
    "scrolled": true
   },
   "outputs": [],
   "source": [
    "# Note: the following loop takes ~9 hours to run\n",
    "dist_breal = []\n",
    "dist_bfake = []\n",
    "\n",
    "for dist, w in zip([dist_breal, dist_bfake],\n",
    "                   [real_bandpass, fake_bandpass]):\n",
    "    step = 0.061\n",
    "    max_samples = int((w[ifo].end_time - w[ifo].start_time - 80) / step)\n",
    "    print max_samples\n",
    "    # This loop steps ``time`` through the real/fake data stream in strides of ``step``. On\n",
    "    # each iteration, it calculates the cross correlation in the default window size of\n",
    "    # time + 40ms, then finds the peak within +/-0.5ms of the 7ms offset between detectors.\n",
    "    # Since the stride is 61ms and the window is 40ms, this ensures that each loop uses data\n",
    "    # that is independent of the previous loop.\n",
    "    for i in range(max_samples):\n",
    "        time = w[ifo].start_time + 40 + i * step\n",
    "                \n",
    "            \n",
    "        peak = res.get_peak(w, time)\n",
    "        dist.append(peak)\n",
    "        \n",
    "        if i % 10 ==0:\n",
    "            print time, i, peak"
   ]
  },
  {
   "cell_type": "code",
   "execution_count": null,
   "metadata": {},
   "outputs": [],
   "source": [
    "numpy.savetxt('bkg_real.txt', dist_breal)\n",
    "numpy.savetxt('bkg_simulated.txt', dist_bfake)"
   ]
  },
  {
   "cell_type": "markdown",
   "metadata": {},
   "source": [
    "## Figure 3\n",
    "\n",
    "Cumulative distribution of correlations in simulated colored Gaussian noise and detector data away from GW150914, using the same bandpass and notching, and correlation time window settings as used to produce Fig. 2. The minimum correlation values near the time of flight difference in Fig. 2 are plotted as vertical lines for reference."
   ]
  },
  {
   "cell_type": "code",
   "execution_count": 3,
   "metadata": {},
   "outputs": [
    {
     "data": {
      "image/png": "[encoded data removed]",
      "text/plain": [
       "<Figure size 432x288 with 1 Axes>"
      ]
     },
     "metadata": {},
     "output_type": "display_data"
    },
    {
     "name": "stdout",
     "output_type": "stream",
     "text": [
      "Ks_2sampResult(statistic=0.006222200206579154, pvalue=0.9492167825491061)\n"
     ]
    }
   ],
   "source": [
    "dist_breal = numpy.loadtxt('bkg_real.txt')\n",
    "dist_bfake = numpy.loadtxt('bkg_simulated.txt')\n",
    "\n",
    "for dist, label, color, in zip([dist_breal, dist_bfake], ['Off-source LIGO Data Distribution', 'Colored Gaussian Noise Distribution'], ['black', 'red']):\n",
    "    dist = numpy.array(dist)\n",
    "    dist.sort()\n",
    "    x = numpy.arange(len(dist), 0, -1)\n",
    "    pylab.plot(dist, x / float(len(x)), label=label, color=color)\n",
    "    \n",
    "# Taken from Fig 2. \n",
    "pylab.axvline(0.965, label='Original Data Including Signal', color='tab:blue', linestyle='--')\n",
    "pylab.axvline(0.816, label='Non-ML NR Waveform Subtracted Data', color='tab:orange', linestyle='--')\n",
    "pylab.axvline(0.369, label='ML Waveform Subtracted Data', color='green', linestyle='--')\n",
    "\n",
    "pylab.xlim(0, 1)\n",
    "pylab.ylim(1e-6, 1e0)\n",
    "pylab.legend()\n",
    "pylab.yscale('log')\n",
    "pylab.ylabel('p-value')\n",
    "pylab.grid()\n",
    "pylab.xlabel('Correlation Coefficient')\n",
    "pylab.savefig(os.path.join(output_path,'fig3.pdf'))\n",
    "pylab.show()\n",
    "\n",
    "from scipy.stats import ks_2samp\n",
    "print ks_2samp(dist_breal, dist_bfake)"
   ]
  },
  {
   "cell_type": "code",
   "execution_count": null,
   "metadata": {},
   "outputs": [],
   "source": []
  }
 ],
 "metadata": {
  "kernelspec": {
   "display_name": "Python 2",
   "language": "python",
   "name": "python2"
  },
  "language_info": {
   "codemirror_mode": {
    "name": "ipython",
    "version": 2
   },
   "file_extension": ".py",
   "mimetype": "text/x-python",
   "name": "python",
   "nbconvert_exporter": "python",
   "pygments_lexer": "ipython2",
   "version": "2.7.5"
  }
 },
 "nbformat": 4,
 "nbformat_minor": 2
}
